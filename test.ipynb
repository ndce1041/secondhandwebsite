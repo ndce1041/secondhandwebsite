{
 "cells": [
  {
   "cell_type": "code",
   "execution_count": 68,
   "metadata": {},
   "outputs": [
    {
     "name": "stdout",
     "output_type": "stream",
     "text": [
      "{% #order_tag# \n",
      "    <div class=\"p-4 rounded mb-4 border  border-blue-500\" gid=\"{{ context.gid }}\">{{ context.goodsname }}</div>\n",
      "    <div class=\"p-4 rounded mb-4 border  border-blue-500\" gid=\"{{ context.gid }}\">{{ context.goodsname }}</div>\n",
      "%}\n",
      "b'{% #order_tag# \\n    <div class=\"p-4 rounded mb-4 border  border-blue-500\" gid=\"{{ context.gid }}\">{{ context.goodsname }}</div>\\n    <div class=\"p-4 rounded mb-4 border  border-blue-500\" gid=\"{{ context.gid }}\">{{ context.goodsname }}</div>\\n%}'\n",
      "    <div class=\"p-4 rounded mb-4 border  border-blue-500\" gid=\"{{ context.gid }}\">{{ context.goodsname }}</div>\n",
      "    <div class=\"p-4 rounded mb-4 border  border-blue-500\" gid=\"{{ context.gid }}\">{{ context.goodsname }}</div>\n"
     ]
    }
   ],
   "source": [
    "import re\n",
    "read_assembly = re.compile(r\"{% #(?P<name>.+)#\\s*\\n(?P<content>[\\s\\S]*)\\n%}\")\n",
    "\n",
    "with open(\"./static/template/order_tag.html\", \"r\") as f:\n",
    "    order_tag = f.read()\n",
    "    print(order_tag)\n",
    "    print(order_tag.encode(\"utf-8\"))\n",
    "    print(read_assembly.search(order_tag).group(\"content\"))\n"
   ]
  },
  {
   "cell_type": "code",
   "execution_count": 9,
   "metadata": {},
   "outputs": [
    {
     "name": "stdout",
     "output_type": "stream",
     "text": [
      "['a;lksjdf;la', 'asdfasfd', 'asdfasfd', '']\n",
      "[1, 2, 3]\n"
     ]
    }
   ],
   "source": [
    "a = \"\"\"a;lksjdf;la\n",
    "asdfasfd\n",
    "asdfasfd\n",
    "\"\"\"\n",
    "\n",
    "print(a.split(\"\\n\"))\n",
    "aa = [1,2,3,4,5,6,7,8,9,0]\n",
    "\n",
    "print(aa[0:3])\n"
   ]
  }
 ],
 "metadata": {
  "kernelspec": {
   "display_name": "Python 3",
   "language": "python",
   "name": "python3"
  },
  "language_info": {
   "codemirror_mode": {
    "name": "ipython",
    "version": 3
   },
   "file_extension": ".py",
   "mimetype": "text/x-python",
   "name": "python",
   "nbconvert_exporter": "python",
   "pygments_lexer": "ipython3",
   "version": "3.11.5"
  }
 },
 "nbformat": 4,
 "nbformat_minor": 2
}
